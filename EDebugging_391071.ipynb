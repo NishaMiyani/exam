{
 "cells": [
  {
   "cell_type": "code",
   "execution_count": null,
   "id": "93cf5647",
   "metadata": {},
   "outputs": [
    {
     "ename": "ModuleNotFoundError",
     "evalue": "No module named 'matplotlib'",
     "output_type": "error",
     "traceback": [
      "\u001b[31m---------------------------------------------------------------------------\u001b[39m",
      "\u001b[31mModuleNotFoundError\u001b[39m                       Traceback (most recent call last)",
      "\u001b[36mCell\u001b[39m\u001b[36m \u001b[39m\u001b[32mIn[1]\u001b[39m\u001b[32m, line 1\u001b[39m\n\u001b[32m----> \u001b[39m\u001b[32m1\u001b[39m \u001b[38;5;28;01mimport\u001b[39;00m\u001b[38;5;250m \u001b[39m\u001b[34;01mmatplotlib\u001b[39;00m\u001b[34;01m.\u001b[39;00m\u001b[34;01mpyplot\u001b[39;00m\u001b[38;5;250m \u001b[39m\u001b[38;5;28;01mas\u001b[39;00m\u001b[38;5;250m \u001b[39m\u001b[34;01mplt\u001b[39;00m\n\u001b[32m      2\u001b[39m \u001b[38;5;28;01mimport\u001b[39;00m\u001b[38;5;250m \u001b[39m\u001b[34;01mnumpy\u001b[39;00m\u001b[38;5;250m \u001b[39m\u001b[38;5;28;01mas\u001b[39;00m\u001b[38;5;250m \u001b[39m\u001b[34;01mnp\u001b[39;00m\n\u001b[32m      3\u001b[39m \u001b[38;5;28;01mimport\u001b[39;00m\u001b[38;5;250m \u001b[39m\u001b[34;01mrandom\u001b[39;00m\n",
      "\u001b[31mModuleNotFoundError\u001b[39m: No module named 'matplotlib'"
     ]
    }
   ],
   "source": [
    "\n",
    "import matplotlib.pyplot as plt\n",
    "import numpy as np\n",
    "import random\n",
    "import math\n",
    "from IPython.display import display, HTML\n",
    "import json\n",
    "import pathlib\n",
    "    "
   ]
  },
  {
   "cell_type": "code",
   "execution_count": 2,
   "id": "cbcfba9f",
   "metadata": {},
   "outputs": [
    {
     "name": "stdout",
     "output_type": "stream",
     "text": [
      "Collecting matplotlib\n",
      "  Using cached matplotlib-3.10.1-cp312-cp312-win_amd64.whl.metadata (11 kB)\n",
      "Collecting contourpy>=1.0.1 (from matplotlib)\n",
      "  Using cached contourpy-1.3.1-cp312-cp312-win_amd64.whl.metadata (5.4 kB)\n",
      "Collecting cycler>=0.10 (from matplotlib)\n",
      "  Using cached cycler-0.12.1-py3-none-any.whl.metadata (3.8 kB)\n",
      "Collecting fonttools>=4.22.0 (from matplotlib)\n",
      "  Downloading fonttools-4.57.0-cp312-cp312-win_amd64.whl.metadata (104 kB)\n",
      "Collecting kiwisolver>=1.3.1 (from matplotlib)\n",
      "  Using cached kiwisolver-1.4.8-cp312-cp312-win_amd64.whl.metadata (6.3 kB)\n",
      "Collecting numpy>=1.23 (from matplotlib)\n",
      "  Downloading numpy-2.2.4-cp312-cp312-win_amd64.whl.metadata (60 kB)\n",
      "Requirement already satisfied: packaging>=20.0 in .\\.venv\\lib\\site-packages (from matplotlib) (24.2)\n",
      "Collecting pillow>=8 (from matplotlib)\n",
      "  Downloading pillow-11.2.1-cp312-cp312-win_amd64.whl.metadata (9.1 kB)\n",
      "Collecting pyparsing>=2.3.1 (from matplotlib)\n",
      "  Downloading pyparsing-3.2.3-py3-none-any.whl.metadata (5.0 kB)\n",
      "Requirement already satisfied: python-dateutil>=2.7 in .\\.venv\\lib\\site-packages (from matplotlib) (2.9.0.post0)\n",
      "Requirement already satisfied: six>=1.5 in .\\.venv\\lib\\site-packages (from python-dateutil>=2.7->matplotlib) (1.17.0)\n",
      "Using cached matplotlib-3.10.1-cp312-cp312-win_amd64.whl (8.1 MB)\n",
      "Using cached contourpy-1.3.1-cp312-cp312-win_amd64.whl (220 kB)\n",
      "Using cached cycler-0.12.1-py3-none-any.whl (8.3 kB)\n",
      "Downloading fonttools-4.57.0-cp312-cp312-win_amd64.whl (2.2 MB)\n",
      "   ---------------------------------------- 0.0/2.2 MB ? eta -:--:--\n",
      "   ------------------- -------------------- 1.0/2.2 MB 6.3 MB/s eta 0:00:01\n",
      "   -------------------------------------- - 2.1/2.2 MB 5.6 MB/s eta 0:00:01\n",
      "   ---------------------------------------- 2.2/2.2 MB 4.9 MB/s eta 0:00:00\n",
      "Using cached kiwisolver-1.4.8-cp312-cp312-win_amd64.whl (71 kB)\n",
      "Downloading numpy-2.2.4-cp312-cp312-win_amd64.whl (12.6 MB)\n",
      "   ---------------------------------------- 0.0/12.6 MB ? eta -:--:--\n",
      "   --- ------------------------------------ 1.0/12.6 MB 5.6 MB/s eta 0:00:03\n",
      "   ------ --------------------------------- 2.1/12.6 MB 5.1 MB/s eta 0:00:03\n",
      "   --------- ------------------------------ 3.1/12.6 MB 5.1 MB/s eta 0:00:02\n",
      "   -------------- ------------------------- 4.5/12.6 MB 5.3 MB/s eta 0:00:02\n",
      "   ---------------- ----------------------- 5.2/12.6 MB 5.2 MB/s eta 0:00:02\n",
      "   -------------------- ------------------- 6.6/12.6 MB 5.2 MB/s eta 0:00:02\n",
      "   ------------------------ --------------- 7.6/12.6 MB 5.3 MB/s eta 0:00:01\n",
      "   --------------------------- ------------ 8.7/12.6 MB 5.3 MB/s eta 0:00:01\n",
      "   ------------------------------ --------- 9.7/12.6 MB 5.2 MB/s eta 0:00:01\n",
      "   ---------------------------------- ----- 10.7/12.6 MB 5.2 MB/s eta 0:00:01\n",
      "   ------------------------------------- -- 11.8/12.6 MB 5.2 MB/s eta 0:00:01\n",
      "   ---------------------------------------  12.6/12.6 MB 5.2 MB/s eta 0:00:01\n",
      "   ---------------------------------------- 12.6/12.6 MB 4.8 MB/s eta 0:00:00\n",
      "Downloading pillow-11.2.1-cp312-cp312-win_amd64.whl (2.7 MB)\n",
      "   ---------------------------------------- 0.0/2.7 MB ? eta -:--:--\n",
      "   ----------- ---------------------------- 0.8/2.7 MB 5.6 MB/s eta 0:00:01\n",
      "   ----------------------- ---------------- 1.6/2.7 MB 4.9 MB/s eta 0:00:01\n",
      "   ---------------------------------------  2.6/2.7 MB 4.7 MB/s eta 0:00:01\n",
      "   ---------------------------------------- 2.7/2.7 MB 3.6 MB/s eta 0:00:00\n",
      "Downloading pyparsing-3.2.3-py3-none-any.whl (111 kB)\n",
      "Installing collected packages: pyparsing, pillow, numpy, kiwisolver, fonttools, cycler, contourpy, matplotlib\n",
      "Successfully installed contourpy-1.3.1 cycler-0.12.1 fonttools-4.57.0 kiwisolver-1.4.8 matplotlib-3.10.1 numpy-2.2.4 pillow-11.2.1 pyparsing-3.2.3\n"
     ]
    }
   ],
   "source": [
    "!pip install matplotlib\n"
   ]
  },
  {
   "cell_type": "code",
   "execution_count": null,
   "id": "27d052e4",
   "metadata": {},
   "outputs": [],
   "source": [
    "import pathlib\n",
    "import json\n",
    "\n",
    "def load_config(fname):\n",
    "    d = {}\n",
    "    if pathlib.Path(fname).is_file():\n",
    "        with open(fname, \"r\") as f:\n",
    "            d = json.load(f)\n",
    "    else:\n",
    "        id = input(\"Student Id: \")\n",
    "        name = input(\"Student Name: \")\n",
    "        d[\"student_id\"] = id\n",
    "        d[\"student_name\"] = name\n",
    "        with open(fname, \"w\") as f:\n",
    "            json.dump(d, f)\n",
    "    return d\n",
    "\n",
    "config = load_config(\"config.json\")\n",
    "print(config)\n"
   ]
  },
  {
   "cell_type": "markdown",
   "id": "f855d636",
   "metadata": {},
   "source": [
    "def f(p1):\n",
    "    # function logic\n",
    "    ...\n"
   ]
  },
  {
   "cell_type": "markdown",
   "id": "bd20d28c",
   "metadata": {},
   "source": [
    "<!-- <div class=\"question_frame\"> --><!-- start of question_frame -->\n"
   ]
  },
  {
   "cell_type": "code",
   "execution_count": null,
   "id": "53ac8cd4",
   "metadata": {},
   "outputs": [],
   "source": [
    "t = \"\"\"\n",
    "\n",
    "        <h1>Mystery Program</h1>\n",
    "        <div class=\"question_body\">\n",
    "             \n",
    "<p>Given is the following mystery program.</p>\n",
    "\n",
    "<code>\n",
    "<pre>\n",
    "\n",
    "# DO NOT EDIT THIS CODE\n",
    "def f(p1):\n",
    "    q1 = [21,46,46,72,10,53,15,94,30,32,20,14]\n",
    "    s = 0\n",
    "    for i in range(len(q1)):\n",
    "        p = q1[i % len(q1)]\n",
    "        if s == p1[i]:\n",
    "            s = s + p\n",
    "    return s == 259\n",
    "# DO NOT EDIT THIS CODE\n",
    "\n",
    "</pre>\n",
    "</code>\n",
    "\n",
    "        </div><!-- end of question_body -->\n",
    "    \n",
    "\"\"\"\n",
    "display(HTML(t))"
   ]
  },
  {
   "cell_type": "markdown",
   "id": "99e98d63",
   "metadata": {},
   "source": [
    "\n",
    "<div class=\"question_marks\">\n",
    "<span class=\"mark_num\" style=\"text-align:right\">12</span> marks\n",
    "</div><!-- end of question_marks -->\n"
   ]
  },
  {
   "cell_type": "code",
   "execution_count": null,
   "id": "485dad69",
   "metadata": {},
   "outputs": [
    {
     "name": "stdout",
     "output_type": "stream",
     "text": [
      "Generated p1: [0, 21, 67, 113, 185, 195, 248, 263, 357, 387, 419, 439]\n",
      "f(p1) returns: False\n"
     ]
    }
   ],
   "source": [
    "def f(p1):\n",
    "    q1 = [21, 46, 46, 72, 10, 53, 15, 94, 30, 32, 20, 14]\n",
    "    s = 0\n",
    "    for i in range(len(q1)):\n",
    "        p = q1[i % len(q1)]\n",
    "        if s == p1[i]:\n",
    "            s = s + p\n",
    "    return s == 259\n",
    "\n",
    "# Try to construct a correct p1 based on how s changes\n",
    "q1 = [21, 46, 46, 72, 10, 53, 15, 94, 30, 32, 20, 14]\n",
    "p1 = [0] * 12\n",
    "s = 0\n",
    "for i in range(12):\n",
    "    p1[i] = s  # s must match p1[i] for p to be added\n",
    "    s += q1[i]\n",
    "\n",
    "print(\"Generated p1:\", p1)\n",
    "print(\"f(p1) returns:\", f(p1))\n"
   ]
  },
  {
   "cell_type": "markdown",
   "id": "16471fc7",
   "metadata": {},
   "source": [
    "def f(p1):\n",
    "    # function logic\n",
    "    ...\n"
   ]
  },
  {
   "cell_type": "markdown",
   "id": "5b20660e",
   "metadata": {},
   "source": [
    "def f(p1):\n",
    "    # some logic...\n",
    "    return True or False\n"
   ]
  },
  {
   "cell_type": "markdown",
   "id": "5c5803ed",
   "metadata": {},
   "source": [
    "<!-- </div> --><!-- end of question_frame -->\n"
   ]
  },
  {
   "cell_type": "markdown",
   "id": "7db6aeb7",
   "metadata": {},
   "source": [
    "<!-- <div class=\"question_frame\"> --><!-- start of question_frame -->\n"
   ]
  },
  {
   "cell_type": "markdown",
   "id": "c2fed584",
   "metadata": {},
   "source": [
    "\n",
    "<div class=\"question_marks\">\n",
    "<span class=\"mark_num\" style=\"text-align:right\">5</span> marks\n",
    "</div><!-- end of question_marks -->\n"
   ]
  },
  {
   "cell_type": "markdown",
   "id": "d6ca8022",
   "metadata": {},
   "source": [
    "\n",
    "<p>Estimate the runtime of the routine <code>f</code>, if you call\n",
    "the routine with an input list of length 102000.</p>\n",
    "\n",
    "<p>Runtime of routine <code>f</code> with an input list of\n",
    "length 102000: [ENTER YOUR ANSWER HERE]</p>\n"
   ]
  },
  {
   "cell_type": "markdown",
   "id": "923e31f9",
   "metadata": {},
   "source": [
    "<p>Show your work and explain your answer in this cell. If you want to, you can add additional markdown and code cells after this cell.</p>"
   ]
  },
  {
   "cell_type": "code",
   "execution_count": null,
   "id": "66ec10fd",
   "metadata": {},
   "outputs": [],
   "source": [
    "def f(p1):\n",
    "    total = 0\n",
    "    for x in p1:\n",
    "        total += x\n",
    "    return total > 0\n"
   ]
  },
  {
   "cell_type": "code",
   "execution_count": null,
   "id": "f774489b",
   "metadata": {},
   "outputs": [],
   "source": [
    "def f(p1):\n",
    "    for i in range(len(p1)):\n",
    "        for j in range(len(p1)):\n",
    "            if p1[i] != p1[j]:\n",
    "                return True\n",
    "    return False\n"
   ]
  },
  {
   "cell_type": "markdown",
   "id": "c43a553e",
   "metadata": {},
   "source": [
    "<!-- </div> --><!-- end of question_frame -->\n"
   ]
  }
 ],
 "metadata": {
  "kernelspec": {
   "display_name": ".venv",
   "language": "python",
   "name": "python3"
  },
  "language_info": {
   "codemirror_mode": {
    "name": "ipython",
    "version": 3
   },
   "file_extension": ".py",
   "mimetype": "text/x-python",
   "name": "python",
   "nbconvert_exporter": "python",
   "pygments_lexer": "ipython3",
   "version": "3.12.10"
  }
 },
 "nbformat": 4,
 "nbformat_minor": 5
}
